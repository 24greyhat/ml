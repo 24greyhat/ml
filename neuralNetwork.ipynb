{
 "cells": [
  {
   "cell_type": "code",
   "execution_count": 27,
   "id": "3a330868-17cb-4340-8947-1da1e58ea1f8",
   "metadata": {},
   "outputs": [],
   "source": [
    "import torch\n",
    "import torchvision\n",
    "from torchvision import transforms, datasets"
   ]
  },
  {
   "cell_type": "code",
   "execution_count": 28,
   "id": "7b10b9d2-38f9-4f9b-bd8d-d04e0eada347",
   "metadata": {},
   "outputs": [],
   "source": [
    "train = datasets.MNIST(\"\", train=True, download=True, transform=transforms.Compose([transforms.ToTensor()])) # download training data and transform it into a torch tensor\n",
    "\n",
    "\n",
    "test = datasets.MNIST(\"\", train=False, download=True, transform=transforms.Compose([transforms.ToTensor()])) # same but for testing data\n",
    "\n"
   ]
  },
  {
   "cell_type": "code",
   "execution_count": 29,
   "id": "aa388c6a-051a-4892-960b-358f93232efc",
   "metadata": {},
   "outputs": [],
   "source": [
    "\n",
    "trainset = torch.utils.data.DataLoader(train, batch_size=10, shuffle=True)\n",
    "# Batch_size = is the size of each batch being passed to the model at a time, a batch is a set of samples of length batch_size, each sample is made of an input feature vector and a corresponding label (target value).\n",
    "# shuffle = shuffle the data to improve generalization\n",
    "\n",
    "\n",
    "testset = torch.utils.data.DataLoader(test, batch_size=10, shuffle=True)\n"
   ]
  },
  {
   "cell_type": "code",
   "execution_count": 30,
   "id": "595d421d-61e9-4ec3-8932-9db0b71b20f1",
   "metadata": {},
   "outputs": [],
   "source": [
    "import torch.nn as nn\n",
    "import torch.nn.functional as F"
   ]
  },
  {
   "cell_type": "code",
   "execution_count": 31,
   "id": "f65b04ae-fe9a-4a21-844f-1ad3c3709d65",
   "metadata": {},
   "outputs": [
    {
     "name": "stdout",
     "output_type": "stream",
     "text": [
      "Net(\n",
      "  (fc1): Linear(in_features=784, out_features=64, bias=True)\n",
      "  (fc2): Linear(in_features=64, out_features=64, bias=True)\n",
      "  (fc3): Linear(in_features=64, out_features=64, bias=True)\n",
      "  (fc4): Linear(in_features=64, out_features=10, bias=True)\n",
      ")\n"
     ]
    }
   ],
   "source": [
    "class Net(nn.Module):\n",
    "    def __init__(self):\n",
    "        super().__init__() # running the init method of nn.Module\n",
    "        self.fc1 = nn.Linear(28*28, 64) # fc1 means a  Fully Connected Layer\n",
    "        self.fc2 = nn.Linear(64, 64) # has to take in 64 because fc1 outputs 64\n",
    "        self.fc3 = nn.Linear(64, 64)\n",
    "        self.fc4 = nn.Linear(64, 10) # our finaly output layour only has 10 neurons\n",
    "\n",
    "\n",
    "    def forward(self, x):\n",
    "        x = F.relu(self.fc1(x)) # run the rectified linear activation function over the fc1 layer's output\n",
    "        x = F.relu(self.fc2(x))\n",
    "        x = F.relu(self.fc3(x))\n",
    "        x = self.fc4(x)\n",
    "\n",
    "        return F.log_softmax(x, dim=1) # softmax will return a probability distribution\n",
    "        \n",
    "\n",
    "net = Net()\n",
    "\n",
    "print(net)\n",
    "\n",
    "        \n",
    "\n"
   ]
  },
  {
   "cell_type": "code",
   "execution_count": 18,
   "id": "f338f429-45f6-4e4f-b29d-9235c79be6d2",
   "metadata": {},
   "outputs": [],
   "source": [
    "X = torch.rand((28, 28))\n",
    "X = X.view(-1, 28*28) # reshape X essentially flattening it"
   ]
  },
  {
   "cell_type": "code",
   "execution_count": 19,
   "id": "300d2662-7017-4cfd-a0dd-018ee0390f1b",
   "metadata": {},
   "outputs": [],
   "source": [
    "output = net(X)"
   ]
  },
  {
   "cell_type": "code",
   "execution_count": 20,
   "id": "86dffa99-ac7d-48a3-8e75-849621d05ce1",
   "metadata": {},
   "outputs": [
    {
     "data": {
      "text/plain": [
       "tensor([[-2.3778, -2.2388, -2.4616, -2.2734, -2.3471, -2.3030, -2.3909, -2.2462,\n",
       "         -2.2403, -2.1801]], grad_fn=<LogSoftmaxBackward0>)"
      ]
     },
     "execution_count": 20,
     "metadata": {},
     "output_type": "execute_result"
    }
   ],
   "source": [
    "output"
   ]
  },
  {
   "cell_type": "code",
   "execution_count": 21,
   "id": "ff7a8799-d60d-4dac-a14a-3b700c57f92e",
   "metadata": {},
   "outputs": [
    {
     "name": "stdout",
     "output_type": "stream",
     "text": [
      "tensor(0.0182, grad_fn=<NllLossBackward0>)\n",
      "tensor(0.0188, grad_fn=<NllLossBackward0>)\n",
      "tensor(0.0062, grad_fn=<NllLossBackward0>)\n"
     ]
    }
   ],
   "source": [
    "import torch.optim as optim\n",
    "\n",
    "optimizer = optim.Adam(net.parameters(), lr=0.001)\n",
    "\n",
    "EPOCHS = 3 # defines how many times we iterate and feed over the trainset to the model\n",
    "\n",
    "\n",
    "for epoch in range(EPOCHS):\n",
    "    for data in trainset: # data is a batch of features and labels\n",
    "        X, y = data\n",
    "        net.zero_grad() # zeroing the gradient\n",
    "\n",
    "        output = net(X.view(-1, 28*28))\n",
    "\n",
    "        loss = F.nll_loss(output, y) # calculating the loss (Compute the negative log likelihood loss)\n",
    "\n",
    "        loss.backward()\n",
    "\n",
    "        optimizer.step()\n",
    "\n",
    "    print(loss)\n",
    "\n",
    "        \n",
    "        "
   ]
  },
  {
   "cell_type": "code",
   "execution_count": 22,
   "id": "765fe655-e6da-42c1-9851-7280935d4db0",
   "metadata": {},
   "outputs": [
    {
     "name": "stdout",
     "output_type": "stream",
     "text": [
      "Accuracy:  0.975\n"
     ]
    }
   ],
   "source": [
    "\n",
    "correct = 0\n",
    "total = 0\n",
    "\n",
    "with torch.no_grad(): # no_grad tells torch not to calculate the gradient because we don't want to adjust since we're only testing the network\n",
    "    for data in trainset:\n",
    "        X, y = data\n",
    "        output = net(X.view(-1, 28*28))\n",
    "\n",
    "        for idx, i in enumerate(output):\n",
    "            if torch.argmax(i) == y[idx]:\n",
    "                correct +=1\n",
    "                \n",
    "            total += 1\n",
    "\n",
    "\n",
    "print(f\"Accuracy:  {round(correct/total, 3)}\")"
   ]
  },
  {
   "cell_type": "code",
   "execution_count": 25,
   "id": "78c065ca-11d9-4c03-a8b8-22d0e3258fcc",
   "metadata": {},
   "outputs": [
    {
     "data": {
      "image/png": "[encoded data removed]",
      "text/plain": [
       "<Figure size 640x480 with 1 Axes>"
      ]
     },
     "metadata": {},
     "output_type": "display_data"
    }
   ],
   "source": [
    "import matplotlib.pyplot as plt\n",
    "plt.imshow(X[3].view(28, 28))\n",
    "plt.show()\n"
   ]
  },
  {
   "cell_type": "code",
   "execution_count": 26,
   "id": "d9af8442-be0b-48aa-a940-8f36e9b536d9",
   "metadata": {},
   "outputs": [
    {
     "name": "stdout",
     "output_type": "stream",
     "text": [
      "tensor(8)\n"
     ]
    }
   ],
   "source": [
    "print(torch.argmax(net(X[3].view(-1, 28*28))[0]))\n",
    "# \"torch.argmax\" return the indices of maximum value of all the elements in the input tensor wheras \"torch.argmin\" will return minimum value of all the elements in the input tensor.\n",
    "\n",
    "# net will return a list of 10 which is our last output layer and argmax will return the maximum value"
   ]
  },
  {
   "cell_type": "code",
   "execution_count": null,
   "id": "35b23380-0d3b-41ef-bcbb-2a78cf537809",
   "metadata": {},
   "outputs": [],
   "source": []
  },
  {
   "cell_type": "code",
   "execution_count": null,
   "id": "32896dd0-5816-4881-9ba8-39f4e3cde452",
   "metadata": {},
   "outputs": [],
   "source": []
  },
  {
   "cell_type": "markdown",
   "id": "de7d9062-032c-451a-a6db-2b9bdbf1283f",
   "metadata": {},
   "source": [
    "> The model now has an accuracy of **98.6%** and it accurately predicted **5**"
   ]
  },
  {
   "cell_type": "code",
   "execution_count": null,
   "id": "883bc675-8ae8-4838-92ac-85c401191502",
   "metadata": {},
   "outputs": [],
   "source": []
  },
  {
   "cell_type": "code",
   "execution_count": null,
   "id": "c7c318a9-6b96-4ebc-adbd-ac8dd35c4a32",
   "metadata": {},
   "outputs": [],
   "source": []
  },
  {
   "cell_type": "code",
   "execution_count": null,
   "id": "a4b62f28-0a7c-493f-ae83-19891818b9fb",
   "metadata": {},
   "outputs": [],
   "source": []
  },
  {
   "cell_type": "code",
   "execution_count": null,
   "id": "21c1515a-9a0d-4bec-99d4-6d7fc0ded7f7",
   "metadata": {},
   "outputs": [],
   "source": []
  },
  {
   "cell_type": "code",
   "execution_count": null,
   "id": "7fa5ef9b-8ae8-42df-a565-f3891494a6f8",
   "metadata": {},
   "outputs": [],
   "source": []
  },
  {
   "cell_type": "code",
   "execution_count": null,
   "id": "d70b36ef-9050-4a88-b7b7-4f0602846b63",
   "metadata": {},
   "outputs": [],
   "source": []
  }
 ],
 "metadata": {
  "kernelspec": {
   "display_name": "Python 3 (ipykernel)",
   "language": "python",
   "name": "python3"
  },
  "language_info": {
   "codemirror_mode": {
    "name": "ipython",
    "version": 3
   },
   "file_extension": ".py",
   "mimetype": "text/x-python",
   "name": "python",
   "nbconvert_exporter": "python",
   "pygments_lexer": "ipython3",
   "version": "3.11.3"
  }
 },
 "nbformat": 4,
 "nbformat_minor": 5
}
